{
 "cells": [
  {
   "cell_type": "markdown",
   "id": "6e45ce23-6542-4a21-b048-327d24cdbe6b",
   "metadata": {},
   "source": [
    "# TASK 1\n",
    "\n",
    "# FIBONACCI GENERATOR\n",
    "\n",
    "# The Fibonacci series is a sequence where each number is the sum of the two preceding numbers, defined by a mathematical recurrence relationship."
   ]
  },
  {
   "cell_type": "code",
   "execution_count": 3,
   "id": "5c713df6-606b-476f-abde-f6f3ef843cb5",
   "metadata": {},
   "outputs": [],
   "source": [
    "def fibonacci_generator(n):\n",
    "    sequence = []\n",
    "    a, b = 0, 1\n",
    "    for _ in range(n):\n",
    "        sequence.append(a)\n",
    "        a, b = b, a + b\n",
    "    return sequence"
   ]
  },
  {
   "cell_type": "code",
   "execution_count": 4,
   "id": "729759f8-9944-48f5-a06f-4e4cb2b0070f",
   "metadata": {},
   "outputs": [
    {
     "name": "stdin",
     "output_type": "stream",
     "text": [
      "Enter the number of elements in the Fibonacci sequence you want to generate:  -5\n"
     ]
    },
    {
     "name": "stdout",
     "output_type": "stream",
     "text": [
      "Please enter a positive number.\n"
     ]
    },
    {
     "name": "stdin",
     "output_type": "stream",
     "text": [
      "Enter the number of elements in the Fibonacci sequence you want to generate:  7\n"
     ]
    },
    {
     "name": "stdout",
     "output_type": "stream",
     "text": [
      "The Fibonacci sequence of 7 terms is: [0, 1, 1, 2, 3, 5, 8]\n"
     ]
    }
   ],
   "source": [
    "while True:\n",
    "    try:\n",
    "        n_terms = int(input(\"Enter the number of elements in the Fibonacci sequence you want to generate: \"))\n",
    "        if n_terms <= 0:\n",
    "            print(\"Please enter a positive number.\")\n",
    "        else:\n",
    "            fibonacci_sequence = fibonacci_generator(n_terms)\n",
    "            print(f\"The Fibonacci sequence of {n_terms} terms is: {fibonacci_sequence}\")\n",
    "            break\n",
    "    except ValueError:\n",
    "        print(\"Please enter an integer, not an object. Please try again.\")"
   ]
  },
  {
   "cell_type": "code",
   "execution_count": null,
   "id": "669ff271-44b9-47c9-967e-99fe7c5c7569",
   "metadata": {},
   "outputs": [],
   "source": []
  }
 ],
 "metadata": {
  "kernelspec": {
   "display_name": "Python 3 (ipykernel)",
   "language": "python",
   "name": "python3"
  },
  "language_info": {
   "codemirror_mode": {
    "name": "ipython",
    "version": 3
   },
   "file_extension": ".py",
   "mimetype": "text/x-python",
   "name": "python",
   "nbconvert_exporter": "python",
   "pygments_lexer": "ipython3",
   "version": "3.11.7"
  }
 },
 "nbformat": 4,
 "nbformat_minor": 5
}
