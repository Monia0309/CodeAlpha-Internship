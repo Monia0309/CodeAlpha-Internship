{
 "cells": [
  {
   "cell_type": "markdown",
   "id": "ed809409-1bce-4201-a7f8-d7f51afc24a5",
   "metadata": {},
   "source": [
    "# TASK 2\n",
    "\n",
    "# VOICE ASSISTANT\n",
    "\n",
    "# Create a custom voice assistant using Python to personalize and automate tasks according to your needs. Python's versatility makes it an excellent choice for scripting and development, allowing you to build a voice assistant that can compete with the likes of Siri, Alexa, and Google Assistant."
   ]
  },
  {
   "cell_type": "code",
   "execution_count": 1,
   "id": "7d1d7cb5-f49c-4b23-9be9-e596afed5ec7",
   "metadata": {},
   "outputs": [
    {
     "name": "stdout",
     "output_type": "stream",
     "text": [
      "Requirement already satisfied: SpeechRecognition in c:\\users\\monia\\anaconda3\\lib\\site-packages (3.10.4)\n",
      "Requirement already satisfied: requests>=2.26.0 in c:\\users\\monia\\anaconda3\\lib\\site-packages (from SpeechRecognition) (2.31.0)\n",
      "Requirement already satisfied: typing-extensions in c:\\users\\monia\\anaconda3\\lib\\site-packages (from SpeechRecognition) (4.9.0)\n",
      "Requirement already satisfied: charset-normalizer<4,>=2 in c:\\users\\monia\\anaconda3\\lib\\site-packages (from requests>=2.26.0->SpeechRecognition) (2.0.4)\n",
      "Requirement already satisfied: idna<4,>=2.5 in c:\\users\\monia\\anaconda3\\lib\\site-packages (from requests>=2.26.0->SpeechRecognition) (3.4)\n",
      "Requirement already satisfied: urllib3<3,>=1.21.1 in c:\\users\\monia\\anaconda3\\lib\\site-packages (from requests>=2.26.0->SpeechRecognition) (2.0.7)\n",
      "Requirement already satisfied: certifi>=2017.4.17 in c:\\users\\monia\\anaconda3\\lib\\site-packages (from requests>=2.26.0->SpeechRecognition) (2024.2.2)\n"
     ]
    }
   ],
   "source": [
    "!pip install SpeechRecognition"
   ]
  },
  {
   "cell_type": "code",
   "execution_count": 2,
   "id": "a6868eb7-845f-4de8-aaa1-f964338757cc",
   "metadata": {},
   "outputs": [],
   "source": [
    "import speech_recognition as sr\n",
    "\n",
    "recognizer = sr.Recognizer()"
   ]
  },
  {
   "cell_type": "code",
   "execution_count": 3,
   "id": "99d25277-de04-4865-8bcb-b0259567bf41",
   "metadata": {},
   "outputs": [
    {
     "name": "stdout",
     "output_type": "stream",
     "text": [
      "Adjusting for ambient noise, please wait...\n",
      "Please say something:\n",
      "Google Speech Recognition could not understand the audio\n"
     ]
    }
   ],
   "source": [
    "with sr.Microphone() as source:\n",
    "    print(\"Adjusting for ambient noise, please wait...\")\n",
    "    recognizer.adjust_for_ambient_noise(source, duration=1)\n",
    "    print(\"Please say something:\")\n",
    "    \n",
    "    audio = recognizer.listen(source)\n",
    "    \n",
    "    try:\n",
    "        text = recognizer.recognize_google(audio, language=\"en-EN\")\n",
    "        print(f\"You said: {text}\")\n",
    "    except sr.UnknownValueError:\n",
    "        print(\"Google Speech Recognition could not understand the audio\")\n",
    "    except sr.RequestError as e:\n",
    "        print(f\"Could not request results from Google Speech Recognition service; {e}\")"
   ]
  },
  {
   "cell_type": "code",
   "execution_count": 30,
   "id": "278ff3c1-5251-425a-81c0-0f13d83fe5d5",
   "metadata": {},
   "outputs": [],
   "source": [
    "import webbrowser  \n",
    "\n",
    "def google_search(query):  \n",
    "    url = f\"https://www.google.com/search?q={query}\"  \n",
    "    webbrowser.open_new_tab(url) \n",
    "\n",
    "\n",
    "query = text \n",
    "google_search(text)"
   ]
  },
  {
   "cell_type": "code",
   "execution_count": null,
   "id": "10f7be50-939a-49c3-ac73-feff67fa93d5",
   "metadata": {},
   "outputs": [],
   "source": []
  }
 ],
 "metadata": {
  "kernelspec": {
   "display_name": "Python 3 (ipykernel)",
   "language": "python",
   "name": "python3"
  },
  "language_info": {
   "codemirror_mode": {
    "name": "ipython",
    "version": 3
   },
   "file_extension": ".py",
   "mimetype": "text/x-python",
   "name": "python",
   "nbconvert_exporter": "python",
   "pygments_lexer": "ipython3",
   "version": "3.11.7"
  }
 },
 "nbformat": 4,
 "nbformat_minor": 5
}
